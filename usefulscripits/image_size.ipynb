{
 "cells": [
  {
   "cell_type": "code",
   "execution_count": null,
   "metadata": {},
   "outputs": [
    {
     "ename": "",
     "evalue": "",
     "output_type": "error",
     "traceback": [
      "\u001b[1;31mRunning cells with '/usr/bin/python' requires the ipykernel package.\n",
      "\u001b[1;31mRun the following command to install 'ipykernel' into the Python environment. \n",
      "\u001b[1;31mCommand: '/usr/bin/python -m pip install ipykernel -U --user --force-reinstall'"
     ]
    }
   ],
   "source": [
    "# Import necessary libraries\n",
    "from PIL import Image\n",
    "import matplotlib.pyplot as plt\n",
    "import yaml\n",
    "\n",
    "path = r\"/home/oscar/Desktop/SymbioticRobots/assets/\"\n",
    "\n",
    "\n",
    "# Load the image\n",
    "img = Image.open(path+'full_map.png')\n",
    "\n",
    "# Display the image\n",
    "plt.imshow(img)\n",
    "plt.show()\n",
    "\n",
    "# Output the shape of the image\n",
    "width, height = img.size\n",
    "print(\"The image shape is: {} pixels wide x {} pixels high\".format(width, height))\n",
    "\n",
    "# Load the YAML file\n",
    "with open(path+'full_map.yaml', 'r') as file:\n",
    "    yaml_file = yaml.safe_load(file)\n",
    "\n",
    "# Print the contents of the YAML file\n",
    "print(yaml.dump(yaml_file, default_flow_style=False))\n"
   ]
  }
 ],
 "metadata": {
  "kernelspec": {
   "display_name": "Python 3",
   "language": "python",
   "name": "python3"
  },
  "language_info": {
   "name": "python",
   "version": "2.7.12"
  },
  "orig_nbformat": 4
 },
 "nbformat": 4,
 "nbformat_minor": 2
}
